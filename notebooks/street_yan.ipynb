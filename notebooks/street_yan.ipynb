{
 "cells": [
  {
   "cell_type": "code",
   "id": "0771f1d5-422b-4395-921a-cd6f47a23fdf",
   "metadata": {
    "ExecuteTime": {
     "end_time": "2025-01-19T22:07:52.403273Z",
     "start_time": "2025-01-19T22:07:52.386306Z"
    }
   },
   "source": [
    "%load_ext autoreload\n",
    "%autoreload 2"
   ],
   "outputs": [],
   "execution_count": 17
  },
  {
   "cell_type": "code",
   "id": "ea0bf053-4285-4b7a-930c-3c2c739e517e",
   "metadata": {
    "ExecuteTime": {
     "end_time": "2025-01-19T22:07:52.412894Z",
     "start_time": "2025-01-19T22:07:52.404340Z"
    }
   },
   "source": [
    "import numpy as np\n",
    "import os\n",
    "import networkx as nx\n",
    "import subprocess\n",
    "import glob\n",
    "from pathlib import Path\n",
    "from matplotlib import pyplot as plt\n",
    "from matplotlib.widgets import Slider\n",
    "from ipywidgets import interact, FloatSlider"
   ],
   "outputs": [],
   "execution_count": 18
  },
  {
   "cell_type": "code",
   "id": "d96df189-8a80-48c0-b828-cdccfafa1992",
   "metadata": {
    "ExecuteTime": {
     "end_time": "2025-01-19T22:07:52.420857Z",
     "start_time": "2025-01-19T22:07:52.413499Z"
    }
   },
   "source": [
    "dataset_name = 'ToH'\n",
    "\n",
    "feature_type = 'sift_default'\n",
    "matching_type = 'sift_default'\n",
    "\n",
    "# feature_type = 'superpoint'\n",
    "# matching_type = 'superglue'\n",
    "\n",
    "geometric_verification_type = 'default'\n",
    "colmap_path = 'colmap'"
   ],
   "outputs": [],
   "execution_count": 19
  },
  {
   "cell_type": "code",
   "id": "33825bde-024c-4c71-81c5-2bb70ba6e73f",
   "metadata": {
    "ExecuteTime": {
     "end_time": "2025-01-19T22:11:31.528583Z",
     "start_time": "2025-01-19T22:07:52.421710Z"
    }
   },
   "source": [
    "os.environ['MKL_THREADING_LAYER'] = 'GNU'\n",
    "output1 = subprocess.run(['python', '../scripts/match_features.py',\n",
    "                         '--dataset_name', dataset_name,\n",
    "                         '--feature_type', feature_type,\n",
    "                         '--matching_type', matching_type,\n",
    "                         '--geometric_verification_type', geometric_verification_type,\n",
    "                         '--colmap_path', colmap_path,\n",
    "                         '--use_gpu'], capture_output=True)"
   ],
   "outputs": [],
   "execution_count": 20
  },
  {
   "cell_type": "code",
   "id": "572a23bd-11c4-49a2-b969-b42582c903bc",
   "metadata": {
    "tags": [],
    "ExecuteTime": {
     "end_time": "2025-01-19T22:11:31.540049Z",
     "start_time": "2025-01-19T22:11:31.529603Z"
    }
   },
   "source": [
    "# print(str(output1.stderr, 'utf-8'))\n",
    "# print(str(output1.stdout, 'utf-8'))"
   ],
   "outputs": [],
   "execution_count": 21
  },
  {
   "cell_type": "code",
   "id": "97a0cc73-0f73-438d-a8d2-d29cb17c5d58",
   "metadata": {
    "ExecuteTime": {
     "end_time": "2025-01-19T22:11:31.553474Z",
     "start_time": "2025-01-19T22:11:31.541121Z"
    }
   },
   "source": [
    "track_degree = '3'\n",
    "\n",
    "# The coverage controls how many iconic images will be selected. As for small-scale indoor scenes, a large value between 0.7 and 0.9 is recommended; otherwise, for large-scale unstructured datasets, the value around 0.6 would be enough.\n",
    "coverage_thres = '0.9' \n",
    "# coverage_thres = '0.6'\n",
    "\n",
    "alpha = '0.1'\n",
    "minimal_views = '5'\n",
    "ds = 'largearray'"
   ],
   "outputs": [],
   "execution_count": 22
  },
  {
   "cell_type": "code",
   "id": "c72ce32a-b146-4a79-aa07-a4606c5cfb05",
   "metadata": {
    "ExecuteTime": {
     "end_time": "2025-01-19T22:20:17.754858Z",
     "start_time": "2025-01-19T22:16:35.969697Z"
    }
   },
   "source": [
    "output2 = subprocess.run(['python', '../scripts/disambiguate_yan.py',\n",
    "                         '--dataset_name', dataset_name,\n",
    "                         '--feature_type', feature_type,\n",
    "                         '--matching_type', matching_type,\n",
    "                         '--geometric_verification_type', geometric_verification_type,\n",
    "                         '--track_degree', track_degree,\n",
    "                         '--coverage_thres', coverage_thres,\n",
    "                         '--alpha', alpha,\n",
    "                         '--minimal_views', minimal_views,\n",
    "                         '--ds', ds], capture_output=True)"
   ],
   "outputs": [],
   "execution_count": 36
  },
  {
   "cell_type": "code",
   "id": "dc5c6b6e-2974-4f70-a891-4807aa9faf19",
   "metadata": {
    "tags": [],
    "ExecuteTime": {
     "end_time": "2025-01-19T22:15:15.502852Z",
     "start_time": "2025-01-19T22:15:15.494758Z"
    }
   },
   "source": [
    "# print(str(output2.stdout, 'utf-8'))"
   ],
   "outputs": [],
   "execution_count": 24
  },
  {
   "cell_type": "code",
   "id": "82d54ef0-eac1-4467-8c77-f7a06e089171",
   "metadata": {
    "ExecuteTime": {
     "end_time": "2025-01-19T22:22:29.934984Z",
     "start_time": "2025-01-19T22:22:29.907794Z"
    }
   },
   "source": [
    "root = Path.cwd().parents[0]\n",
    "dataset_path_heinly = root / 'datasets' / 'heinly2014'\n",
    "dataset_names_heinly = [\n",
    "    path.split('/')[-1]\n",
    "    for path in glob.glob(str(dataset_path_heinly / \"*/\"))\n",
    "]\n",
    "dataset_path_yan = root / 'datasets' / 'yan2017'\n",
    "dataset_names_yan = [\n",
    "    path.split('/')[-1] for path in glob.glob(str(dataset_path_yan / \"*/\"))\n",
    "]\n",
    "if dataset_name in dataset_names_heinly:\n",
    "    dataset_folder = 'heinly2014'\n",
    "elif dataset_name in dataset_names_yan:\n",
    "    dataset_folder = 'yan2017'\n",
    "else:\n",
    "    print(f\"Unknown dataset name: {dataset_name}\")\n",
    "    raise ValueError\n",
    "    \n",
    "results_path = (root / 'results' / dataset_name /\n",
    "                '_'.join([feature_type, matching_type, geometric_verification_type]))\n",
    "scores_name = 'scores' + f'_yan_t{track_degree}_c{coverage_thres}_a{alpha}_m{minimal_views}.npy'\n",
    "scores = np.load(results_path / scores_name)"
   ],
   "outputs": [],
   "execution_count": 37
  },
  {
   "cell_type": "code",
   "id": "dd3e9659-e47f-4986-bf15-019ea3035b92",
   "metadata": {
    "ExecuteTime": {
     "end_time": "2025-01-19T22:22:31.836545Z",
     "start_time": "2025-01-19T22:22:31.782779Z"
    }
   },
   "source": [
    "@interact(thres=FloatSlider(value=0.1, min=0.0, max=0.5, step=0.01))\n",
    "def plot(thres):\n",
    "    valid_scores = scores.copy()\n",
    "    valid_scores[scores < thres] = 0.\n",
    "    graph = nx.from_numpy_matrix(valid_scores)\n",
    "    pos = nx.nx_agraph.graphviz_layout(graph)\n",
    "    edge_vmin = np.percentile(valid_scores[valid_scores.nonzero()], 10)\n",
    "    edge_vmax = np.percentile(valid_scores[valid_scores.nonzero()], 90)\n",
    "    nx.draw(graph, pos, with_labels=True, edge_cmap=plt.cm.YlOrRd,\n",
    "            edge_color=[graph[u][v]['weight'] for u, v in graph.edges],\n",
    "            edge_vmin=edge_vmin, edge_vmax=edge_vmax)\n",
    "    plt.show()"
   ],
   "outputs": [
    {
     "data": {
      "text/plain": [
       "interactive(children=(FloatSlider(value=0.1, description='thres', max=0.5, step=0.01), Output()), _dom_classes…"
      ],
      "application/vnd.jupyter.widget-view+json": {
       "version_major": 2,
       "version_minor": 0,
       "model_id": "1c2cf7f8ce3a48c8a5cbcc2f2e474b56"
      }
     },
     "metadata": {},
     "output_type": "display_data"
    }
   ],
   "execution_count": 38
  },
  {
   "cell_type": "code",
   "id": "7eb82816-e6a7-428c-a44e-48b5a5e602c4",
   "metadata": {
    "ExecuteTime": {
     "end_time": "2025-01-19T22:22:33.940864Z",
     "start_time": "2025-01-19T22:22:33.918191Z"
    }
   },
   "source": [
    "scores_name = 'scores' + f'_yan_t{track_degree}_c{coverage_thres}_a{alpha}_m{minimal_views}.npy'\n",
    "filter_type = 'threshold'\n",
    "threshold = '0.05' # small scene 0.3, large scene 0.04 to 0.1"
   ],
   "outputs": [],
   "execution_count": 39
  },
  {
   "cell_type": "code",
   "id": "b00b1709-d2e8-4a3f-b5e8-dca0a3fe35b5",
   "metadata": {
    "ExecuteTime": {
     "end_time": "2025-01-19T22:58:12.059613Z",
     "start_time": "2025-01-19T22:22:35.893108Z"
    }
   },
   "source": [
    "output3 = subprocess.run(['python', '../scripts/filter_matches.py',\n",
    "                         '--dataset_name', dataset_name,\n",
    "                         '--feature_type', feature_type,\n",
    "                         '--matching_type', matching_type,\n",
    "                         '--geometric_verification_type', geometric_verification_type,\n",
    "                         '--colmap_path', colmap_path,\n",
    "                         '--scores_name', scores_name,\n",
    "                         '--filter_type', filter_type,\n",
    "                         '--threshold', threshold,\n",
    "                         '--reconstruct_unfiltered',\n",
    "                         '--reconstruct_filtered'], capture_output=True)"
   ],
   "outputs": [],
   "execution_count": 40
  },
  {
   "cell_type": "code",
   "id": "9ce34ba8-58f5-42a0-b69b-337528cb007b",
   "metadata": {
    "tags": [],
    "ExecuteTime": {
     "end_time": "2025-01-19T22:15:16.137752Z",
     "start_time": "2025-01-19T22:15:16.129613Z"
    }
   },
   "source": [
    "# print(str(output3.stderr, 'utf-8'))\n",
    "# print(str(output3.stdout, 'utf-8'))"
   ],
   "outputs": [],
   "execution_count": 29
  },
  {
   "cell_type": "code",
   "id": "04cdcf90-5024-440d-9a8f-6e488f7e2dd1",
   "metadata": {
    "ExecuteTime": {
     "end_time": "2025-01-19T23:14:27.738153Z",
     "start_time": "2025-01-19T23:14:27.715352Z"
    }
   },
   "source": [
    "from disambiguation.utils import visualize_model"
   ],
   "outputs": [],
   "execution_count": 41
  },
  {
   "cell_type": "code",
   "id": "42d8681d-ffec-48ac-9327-d66a07baa220",
   "metadata": {
    "ExecuteTime": {
     "end_time": "2025-01-19T23:23:17.485182Z",
     "start_time": "2025-01-19T23:14:29.532552Z"
    }
   },
   "source": [
    "backbone = f'_yan_t{track_degree}_c{coverage_thres}_a{alpha}_m{minimal_views}'\n",
    "input_model = results_path / ('sparse' + backbone + f'_t{threshold}') / '0'\n",
    "input_format = '.bin'\n",
    "visualize_model.main(input_model, input_format)"
   ],
   "outputs": [
    {
     "name": "stdout",
     "output_type": "stream",
     "text": [
      "num_cameras: 1\n",
      "num_images: 338\n",
      "num_points3D: 215793\n"
     ]
    }
   ],
   "execution_count": 42
  },
  {
   "cell_type": "code",
   "id": "cc2fac0f-0d3d-46e7-b979-b36e5cd7c8fb",
   "metadata": {},
   "source": [],
   "outputs": [],
   "execution_count": null
  },
  {
   "metadata": {},
   "cell_type": "code",
   "source": "",
   "id": "f50fbdadeee97fe4",
   "outputs": [],
   "execution_count": null
  }
 ],
 "metadata": {
  "kernelspec": {
   "display_name": "Python 3",
   "language": "python",
   "name": "python3"
  },
  "language_info": {
   "codemirror_mode": {
    "name": "ipython",
    "version": 3
   },
   "file_extension": ".py",
   "mimetype": "text/x-python",
   "name": "python",
   "nbconvert_exporter": "python",
   "pygments_lexer": "ipython3",
   "version": "3.8.8"
  }
 },
 "nbformat": 4,
 "nbformat_minor": 5
}
